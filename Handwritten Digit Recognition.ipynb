{
 "cells": [
  {
   "cell_type": "markdown",
   "id": "1446feef-efbe-4a14-957b-39629e2861b1",
   "metadata": {},
   "source": [
    "# Handwritten Digit Recognition"
   ]
  },
  {
   "cell_type": "markdown",
   "id": "bfbdef92-9233-4e29-ae3f-20c3b24ee1bc",
   "metadata": {},
   "source": [
    "# 1.Importing Packages"
   ]
  },
  {
   "cell_type": "code",
   "execution_count": 332,
   "id": "7a66dc12-644f-4dfc-b959-9686ea22d00f",
   "metadata": {},
   "outputs": [],
   "source": [
    "import numpy as np\n",
    "import matplotlib.pyplot as plt\n",
    "import random"
   ]
  },
  {
   "cell_type": "markdown",
   "id": "a87449e4-e745-4694-962f-35ee7730f4f8",
   "metadata": {},
   "source": [
    "# 2.Importing The Data"
   ]
  },
  {
   "cell_type": "code",
   "execution_count": 334,
   "id": "48b289ed-59d3-4bb0-a85a-75d0af46a3b6",
   "metadata": {},
   "outputs": [],
   "source": [
    "x_train = np.loadtxt(\"train_x.csv\" , delimiter = \",\").T\n",
    "y_train = np.loadtxt(\"train_label.csv\" , delimiter = \",\").T\n",
    "x_test = np.loadtxt(\"test_x.csv\" , delimiter = \",\").T\n",
    "y_test = np.loadtxt(\"test_label.csv\" , delimiter = \",\").T"
   ]
  },
  {
   "cell_type": "code",
   "execution_count": 335,
   "id": "9e1f5da6-3654-4ae7-925f-27d9aa87e862",
   "metadata": {},
   "outputs": [
    {
     "name": "stdout",
     "output_type": "stream",
     "text": [
      "(784, 1000)\n",
      "(10, 1000)\n",
      "(784, 350)\n",
      "(10, 350)\n"
     ]
    }
   ],
   "source": [
    "#1000 REPRESENTS DATA OR OBSERVATIONS IN TRAIN DATASET WE HAVE(M)\n",
    "#784 IS THE SIZE OF IMAGE (28 X 28), REPRESENTS INPUT FEATURES(N)\n",
    "#350 NUMBER OF OBSERVATIONS IN TEST DATASET \n",
    "#10 REPRESENTS HARD CODING IN TRAIN LABEL DATASET, 1 IN 0TH POSITION, 1 IN IST POSITION AND SO ON...\n",
    "print(x_train.shape)\n",
    "print(y_train.shape)\n",
    "print(x_test.shape)\n",
    "print(y_test.shape)"
   ]
  },
  {
   "cell_type": "markdown",
   "id": "486e4642-1680-4cfb-8f78-b26c1b7c4445",
   "metadata": {},
   "source": [
    "# 3.Display Image From The Data"
   ]
  },
  {
   "cell_type": "code",
   "execution_count": 337,
   "id": "9a0b615f-29b0-4d7c-8d67-6005cd96c985",
   "metadata": {},
   "outputs": [
    {
     "data": {
      "image/png": "[encoded data removed]",
      "text/plain": [
       "<Figure size 640x480 with 1 Axes>"
      ]
     },
     "metadata": {},
     "output_type": "display_data"
    }
   ],
   "source": [
    "index = random.randrange(0 , x_train.shape[0])\n",
    "plt.imshow(x_train[: , index].reshape(28 , 28) , cmap = \"gray\")\n",
    "plt.show()"
   ]
  },
  {
   "cell_type": "markdown",
   "id": "3776af06-da43-493c-85ec-13b917113ac8",
   "metadata": {},
   "source": [
    "# 4.Creating Model\r\n"
   ]
  },
  {
   "cell_type": "code",
   "execution_count": 339,
   "id": "5a9682a0-d97f-4950-9deb-1430b12e5356",
   "metadata": {},
   "outputs": [],
   "source": [
    "# CREATING ACTIVATION FUNCTIONS\n",
    "\n",
    "def tanh(x):\n",
    "    return np.tanh(x)\n",
    "\n",
    "def relu(x):\n",
    "    return np.maximum(x , 0)\n",
    "\n",
    "def softmax(x):\n",
    "    expx = np.exp(x)\n",
    "    return expx/np.sum(expx , axis =0)"
   ]
  },
  {
   "cell_type": "code",
   "execution_count": 340,
   "id": "e8f42fed-700f-42a0-97f6-1cdbbf32bb05",
   "metadata": {},
   "outputs": [],
   "source": [
    "# FINDING DERIVATIVES OF THESE FUNCTIONS\n",
    "\n",
    "# Derivative is (1-a*2) for tanh\n",
    "def derivativetanh(x):\n",
    "    return (1 - np.power(x , 2))\n",
    "def derivativerelu(x):\n",
    "    return np.array(x >0 , dtype = np.float32)\n"
   ]
  },
  {
   "cell_type": "markdown",
   "id": "fa63f5f9-74fc-4598-9a51-f7d5ccbd5399",
   "metadata": {},
   "source": [
    "# 5.Initializing The Parameters"
   ]
  },
  {
   "cell_type": "code",
   "execution_count": 342,
   "id": "c3e8e0c4-e349-4bc7-9114-42adf773ed9d",
   "metadata": {},
   "outputs": [],
   "source": [
    "# INITIALIZING THE PARAMETERS\n",
    "\n",
    "def initializeparameters(n_x , n_h , n_y):\n",
    "    w1 = np.random.randn(n_h , n_x)*0.01\n",
    "    b1 = np.zeros((n_h , 1))\n",
    "\n",
    "    w2 = np.random.randn(n_y , n_h)*0.01\n",
    "    b2 = np.zeros((n_y , 1))\n",
    "\n",
    "    parameters = {\n",
    "        \"w1\" : w1,\n",
    "        \"b1\" : b1,\n",
    "        \"w2\" : w2,\n",
    "        \"b2\" : b2\n",
    "    }\n",
    "    return parameters"
   ]
  },
  {
   "cell_type": "markdown",
   "id": "d9390d6e-8f10-481b-9594-4ca9eb610786",
   "metadata": {},
   "source": [
    "# 6.Implementing Forward Propogation"
   ]
  },
  {
   "cell_type": "code",
   "execution_count": 344,
   "id": "7a61208d-9f4b-46bb-87d6-a576a3dfb27b",
   "metadata": {},
   "outputs": [],
   "source": [
    "def forwardpropagation(x , parameters):\n",
    "    w1 = parameters[\"w1\"]\n",
    "    b1 = parameters[\"b1\"]\n",
    "    w2 = parameters[\"w2\"]\n",
    "    b2 = parameters[\"b2\"]\n",
    "\n",
    "    # Z1 = W1*X +B1 \n",
    "    # Z2 = W2*A1+B2\n",
    "    # A1 = f(Z1)  \n",
    "    #  A2 = f(Z2)\n",
    "    \n",
    "    z1 = np.dot(w1 , x) + b1\n",
    "    a1 = relu(z1)\n",
    "\n",
    "    z2 = np.dot(w2 , a1) + b2\n",
    "    a2 = softmax(z2)\n",
    "\n",
    "    forwardcache = {\n",
    "        \"z1\" : z1,\n",
    "        \"a1\" : a1,\n",
    "        \"z2\" : z2,\n",
    "        \"a2\" : a2\n",
    "    }\n",
    "    return forwardcache"
   ]
  },
  {
   "cell_type": "markdown",
   "id": "b2783bc5-c4ba-49db-ac31-541e91992836",
   "metadata": {},
   "source": [
    "# 7.Implementing Cost Function"
   ]
  },
  {
   "cell_type": "code",
   "execution_count": 346,
   "id": "4c5171c6-95b3-4ca6-8f50-a1a923659723",
   "metadata": {},
   "outputs": [],
   "source": [
    "# Cost Function for MultiClass Classification : -(1/m)summation(m)summation(n)[y * log(a)]\n",
    "\n",
    "def costfunction(a2 , y):\n",
    "    m = y.shape[1]\n",
    "    cost = -(1/m)*np.sum(y*np.log(a2))\n",
    "    #cost = -(1/m)*np.sum(np.sum(y*np.log(a2 , 0) , 1))\n",
    "    return cost"
   ]
  },
  {
   "cell_type": "markdown",
   "id": "c44c658a-7716-40b9-97ce-45dc01c11dd0",
   "metadata": {},
   "source": [
    "# 8.Implementing Backpropogation"
   ]
  },
  {
   "cell_type": "code",
   "execution_count": 354,
   "id": "5a38962f-8f2c-46f5-a879-e997eab676a2",
   "metadata": {},
   "outputs": [],
   "source": [
    "# Output Layer\n",
    "# dZ2 = (A2 -Y)\n",
    "# dW2 = 1/m.dZ2.A1.T\n",
    "# dB2 = 1/m.sum(dZ2,1)\n",
    "# Hidden Layer\n",
    "# dZ1 = W2.T.dZ2*f1(Z1)\n",
    "# dW1 = 1/m.dZ1.X.T\n",
    "# dB1 = 1/m.sum(dZ1,1)\n",
    "def backwardpropogation(x , y , parameters , forwardcache):\n",
    "    w1 = parameters[\"w1\"]\n",
    "    b1 = parameters[\"b1\"]\n",
    "    w2 = parameters[\"w2\"]\n",
    "    b2 = parameters[\"b2\"] \n",
    "\n",
    "    a1 = forwardcache[\"a1\"]\n",
    "    a2 = forwardcache[\"a2\"]\n",
    "\n",
    "    m = x.shape[1]\n",
    "\n",
    "    dz2 = (a2 -y) \n",
    "    dw2 = (1/m)*np.dot(dz2 , a1.T)\n",
    "    db2 = (1/m)*np.sum(dz2 , axis = 1 , keepdims = True)\n",
    "\n",
    "    dz1 = (1/m)*np.dot(w2.T , dz2)*derivativerelu(a1)\n",
    "    dw1 = (1/m)*np.dot(dz1 , x.T)\n",
    "    db1 = (1/m)*np.sum(dz1 , axis = 1 , keepdims = True)\n",
    "\n",
    "    gradients = {\n",
    "        \"dw1\" : dw1,\n",
    "        \"db1\" : db1,\n",
    "        \"dz1\" : dz1,\n",
    "        \"dw2\" : dw2,\n",
    "        \"db2\" : db2,\n",
    "        \"dz2\" : dz2\n",
    "    }\n",
    "    return gradients"
   ]
  },
  {
   "cell_type": "markdown",
   "id": "4b974898-36bd-484a-859f-5241a6094396",
   "metadata": {},
   "source": [
    "# 9. Update Parameters"
   ]
  },
  {
   "cell_type": "code",
   "execution_count": 364,
   "id": "cfa90a02-d3b6-4d0f-8d13-1a0426f712b3",
   "metadata": {},
   "outputs": [],
   "source": [
    "def updateparameters(parameters , gradients , learningrate):\n",
    "    w1 = parameters[\"w1\"]\n",
    "    b1 = parameters[\"b1\"]\n",
    "    w2 = parameters[\"w2\"]\n",
    "    b2 = parameters[\"b2\"]\n",
    "\n",
    "    dw1 = gradients[\"dw1\"]\n",
    "    db1 = gradients[\"db1\"]\n",
    "    dw2 = gradients[\"dw2\"]\n",
    "    db2 = gradients[\"db2\"]\n",
    "\n",
    "    w1 = w1 -learningrate*dw1\n",
    "    b1 = b1 -learningrate*db1\n",
    "    w2 = w2 -learningrate*dw2\n",
    "    b2 = b2 -learningrate*db2\n",
    "\n",
    "    parameters = {\n",
    "        \"w1\" : w1,\n",
    "        \"b1\" : b1,\n",
    "        \"w2\" : w2,\n",
    "        \"b2\" : b2\n",
    "    }\n",
    "    return parameters"
   ]
  },
  {
   "cell_type": "markdown",
   "id": "2fe6d1f2-d268-4c04-bf8c-b2911cc2a50f",
   "metadata": {},
   "source": [
    "# 10.The Complete Model Implementation"
   ]
  },
  {
   "cell_type": "code",
   "execution_count": 400,
   "id": "5affc5a7-b25e-437d-8371-c99119a775af",
   "metadata": {},
   "outputs": [],
   "source": [
    "def model(x , y , n_h , learningrate , iterations):\n",
    "    n_x = x.shape[0]\n",
    "    n_y = y.shape[0]\n",
    "    costlist = []\n",
    "\n",
    "    parameters = initializeparameters(n_x , n_h , n_y)\n",
    "\n",
    "    for i in range(iterations):\n",
    "\n",
    "        forwardcache = forwardpropagation(x , parameters)\n",
    "        cost = costfunction(forwardcache[\"a2\"] , y)\n",
    "        gradients = backwardpropogation(x , y , parameters , forwardcache)\n",
    "        parameters = updateparameters(parameters , gradients , learningrate)\n",
    "        costlist.append(cost)\n",
    "\n",
    "        if(i%(iterations/10) == 0):\n",
    "            print(\"cost after\" , i , \"iterations is : \" , cost)\n",
    "\n",
    "\n",
    "    return parameters , costlist"
   ]
  },
  {
   "cell_type": "code",
   "execution_count": 465,
   "id": "e73d2668-92ae-4ec2-a4db-a08b9738b9c2",
   "metadata": {},
   "outputs": [
    {
     "name": "stdout",
     "output_type": "stream",
     "text": [
      "cost after 0 iterations is :  9.185474994943409\n",
      "cost after 10 iterations is :  26.168115734485493\n",
      "cost after 20 iterations is :  1.9866076020957557\n",
      "cost after 30 iterations is :  0.8729872072246682\n",
      "cost after 40 iterations is :  0.35074134627114845\n",
      "cost after 50 iterations is :  0.20304405406332854\n",
      "cost after 60 iterations is :  1.826214091921799\n",
      "cost after 70 iterations is :  0.10577006270780817\n",
      "cost after 80 iterations is :  0.0664667308326938\n",
      "cost after 90 iterations is :  0.03909722706924365\n"
     ]
    }
   ],
   "source": [
    "iterations = 100\n",
    "n_h = 1000\n",
    "learningrate = 0.002\n",
    "Parameters , Costlist= model(x_train , y_train , n_h = n_h , learningrate = learningrate , iterations = iterations)"
   ]
  },
  {
   "cell_type": "markdown",
   "id": "8a52cb15-e770-4bb6-aea3-091d4ea3d7de",
   "metadata": {},
   "source": [
    "# Plotting the cost error"
   ]
  },
  {
   "cell_type": "code",
   "execution_count": 467,
   "id": "90309930-a785-4b8e-9d43-53f3c6d598f6",
   "metadata": {},
   "outputs": [
    {
     "data": {
      "image/png": "[encoded data removed]",
      "text/plain": [
       "<Figure size 640x480 with 1 Axes>"
      ]
     },
     "metadata": {},
     "output_type": "display_data"
    }
   ],
   "source": [
    "t = np.arange(0 , iterations)\n",
    "plt.plot(t , Costlist)\n",
    "plt.show()"
   ]
  },
  {
   "cell_type": "markdown",
   "id": "731a01d9-8623-47da-aa46-25be5dc33200",
   "metadata": {},
   "source": [
    "# Checking Accuracy"
   ]
  },
  {
   "cell_type": "code",
   "execution_count": 469,
   "id": "3c27580b-f87d-447a-a1cd-db08e9575acd",
   "metadata": {},
   "outputs": [],
   "source": [
    "def accuracy(inp , labels , parameters):\n",
    "    forwardcache = forwardpropagation(inp , parameters)\n",
    "    aout = forwardcache[\"a2\"]\n",
    "\n",
    "    aout = np.argmax(aout , 0)\n",
    "    \n",
    "    yout = np.argmax(labels , 0)    \n",
    "    aout == yout \n",
    "\n",
    "    acc = np.mean(aout == yout)*100\n",
    "    return acc"
   ]
  },
  {
   "cell_type": "code",
   "execution_count": 471,
   "id": "88066f0f-a1a1-4ead-a75f-78e1445ca597",
   "metadata": {},
   "outputs": [
    {
     "name": "stdout",
     "output_type": "stream",
     "text": [
      "Accuracy of Train Dataset is :  99.8 %\n",
      "Accuracy of Test Dataset is :  87.14285714285714 %\n"
     ]
    }
   ],
   "source": [
    "print(\"Accuracy of Train Dataset is : \" , accuracy(x_train , y_train , Parameters) , \"%\")\n",
    "print(\"Accuracy of Test Dataset is : \" , accuracy(x_test , y_test , Parameters) , \"%\")"
   ]
  },
  {
   "cell_type": "markdown",
   "id": "5c804422-4f53-4cfc-96f0-e55d10fdc37b",
   "metadata": {},
   "source": [
    "# Making Predictions"
   ]
  },
  {
   "cell_type": "code",
   "execution_count": 488,
   "id": "eaf5b80c-8e83-40d4-9885-b70b5491ddbc",
   "metadata": {},
   "outputs": [
    {
     "data": {
      "image/png": "[encoded data removed]",
      "text/plain": [
       "<Figure size 640x480 with 1 Axes>"
      ]
     },
     "metadata": {},
     "output_type": "display_data"
    },
    {
     "name": "stdout",
     "output_type": "stream",
     "text": [
      "Our Model Says It Is :  8\n"
     ]
    }
   ],
   "source": [
    "idx = random.randrange(0 , x_test.shape[1])\n",
    "plt.imshow(x_test[: , idx].reshape(28 , 28) , cmap = \"gray\")\n",
    "plt.show()\n",
    "\n",
    "forwardcache = forwardpropagation(x_test[: , idx].reshape(x_test.shape[0] , 1) , Parameters)\n",
    "aout = forwardcache[\"a2\"]\n",
    "aout = np.argmax(aout , 0)\n",
    "print(\"Our Model Says It Is : \" , aout[0])"
   ]
  },
  {
   "cell_type": "code",
   "execution_count": null,
   "id": "16b24dd7-0bfb-4c4e-adaf-4186f4344df6",
   "metadata": {},
   "outputs": [],
   "source": []
  }
 ],
 "metadata": {
  "kernelspec": {
   "display_name": "Python 3 (ipykernel)",
   "language": "python",
   "name": "python3"
  },
  "language_info": {
   "codemirror_mode": {
    "name": "ipython",
    "version": 3
   },
   "file_extension": ".py",
   "mimetype": "text/x-python",
   "name": "python",
   "nbconvert_exporter": "python",
   "pygments_lexer": "ipython3",
   "version": "3.12.4"
  }
 },
 "nbformat": 4,
 "nbformat_minor": 5
}
